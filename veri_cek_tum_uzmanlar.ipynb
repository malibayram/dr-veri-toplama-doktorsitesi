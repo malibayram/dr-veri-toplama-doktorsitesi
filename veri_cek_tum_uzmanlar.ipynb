{
 "cells": [
  {
   "cell_type": "code",
   "execution_count": null,
   "metadata": {},
   "outputs": [],
   "source": [
    "import asyncio\n",
    "import aiohttp\n",
    "import time\n",
    "\n",
    "from bs4 import BeautifulSoup\n",
    "import pandas as pd"
   ]
  },
  {
   "cell_type": "code",
   "execution_count": null,
   "metadata": {},
   "outputs": [],
   "source": [
    "def htmlden_doktorlari_al(html):\n",
    "  soup = BeautifulSoup(html, 'html.parser')\n",
    "  az_content = soup.find('div', class_='az-content')\n",
    "  az_main_wrappers = az_content.find_all('div', class_='az-main-wrapper')\n",
    "  doktorlar = []\n",
    "  for az_main_wrapper in az_main_wrappers:\n",
    "      verified = az_main_wrapper.find('div', class_='verified')\n",
    "      dogrulanmis_profil = False\n",
    "      if verified is not None:\n",
    "          dogrulanmis_profil = verified.text\n",
    "      resim = az_main_wrapper.find('img')\n",
    "      resim_linki = resim['src']\n",
    "      cinsiyet = resim['data-gender']\n",
    "      profil = az_main_wrapper.find('a')\n",
    "      # <a href=\"https://www.doktorsitesi.com/ahmet-dincer/psikoloji/istanbul\"> <span>Psk.</span> Ahmet Dinçer </a>        \n",
    "      profil_linki = profil['href']\n",
    "      konum = profil_linki.split('/')[-1]\n",
    "      uzmanlik_alani = profil_linki.split('/')[-2]\n",
    "      # unvanı <span>Psk.</span> olarak alır\n",
    "      unvan = profil.find('span').text\n",
    "      # ismi buradan alıp ve temizler \\nPsk.\\n                                Arzu Kantarcıoğlu\\n\n",
    "      isim = profil.text.split('\\n')[2].strip()\n",
    "\n",
    "      doktorlar.append({\n",
    "          'resim_linki': resim_linki,\n",
    "          'unvan': unvan,\n",
    "          'isim': isim,\n",
    "          'dogrulanmis_profil': dogrulanmis_profil,\n",
    "          'profil_linki': profil_linki,\n",
    "          'cinsiyet': cinsiyet,\n",
    "          'konum': konum,\n",
    "          'uzmanlik_alani': uzmanlik_alani\n",
    "      })\n",
    "  return doktorlar"
   ]
  },
  {
   "cell_type": "code",
   "execution_count": null,
   "metadata": {},
   "outputs": [],
   "source": [
    "hatali_islemler = []\n",
    "tum_doktorlar = []\n",
    "\n",
    "async def doktor_profil_ozetini_getir(session, sayfa_no):\n",
    "    url = \"https://www.doktorsitesi.com/tumuzmanlar?sayfa=\" + str(sayfa_no)\n",
    "    try:\n",
    "        async with session.get(url) as response:\n",
    "            html = await response.text()\n",
    "            doktorlar = htmlden_doktorlari_al(html)\n",
    "            tum_doktorlar.extend(doktorlar)\n",
    "    except Exception as e:\n",
    "        print(f\"Error: {e}\")\n",
    "        hatali_islemler.append(sayfa_no)"
   ]
  },
  {
   "cell_type": "code",
   "execution_count": null,
   "metadata": {},
   "outputs": [],
   "source": [
    "baslama_zamani = time.time()\n",
    "async with aiohttp.ClientSession() as session:\n",
    "    gorevler = []\n",
    "    for i in range(1, 999):\n",
    "        gorevler.append(doktor_profil_ozetini_getir(session, i))\n",
    "    await asyncio.gather(*gorevler)\n",
    "bitis_zamani = time.time()\n",
    "\n",
    "print(f\"Toplam {len(tum_doktorlar)} doktor profili çekildi. Hatalı işlem sayısı: {len(hatali_islemler)} Toplam süre: {bitis_zamani - baslama_zamani} saniye\")"
   ]
  },
  {
   "cell_type": "code",
   "execution_count": null,
   "metadata": {},
   "outputs": [],
   "source": [
    "tum_doktorlar_df = pd.DataFrame(tum_doktorlar)\n",
    "tum_doktorlar_df.to_csv('tum_doktorlar.csv', index=False)\n",
    "tum_doktorlar_df.head()"
   ]
  },
  {
   "cell_type": "code",
   "execution_count": null,
   "metadata": {},
   "outputs": [],
   "source": [
    "saved_df = pd.read_csv('tum_doktorlar.csv')\n",
    "saved_df.head()"
   ]
  },
  {
   "cell_type": "code",
   "execution_count": null,
   "metadata": {},
   "outputs": [],
   "source": [
    "saved_df.head().to_latex('tum_doktorlar.tex', index=False)"
   ]
  }
 ],
 "metadata": {
  "kernelspec": {
   "display_name": "Python 3",
   "language": "python",
   "name": "python3"
  },
  "language_info": {
   "codemirror_mode": {
    "name": "ipython",
    "version": 3
   },
   "file_extension": ".py",
   "mimetype": "text/x-python",
   "name": "python",
   "nbconvert_exporter": "python",
   "pygments_lexer": "ipython3",
   "version": "3.9.6"
  }
 },
 "nbformat": 4,
 "nbformat_minor": 2
}
