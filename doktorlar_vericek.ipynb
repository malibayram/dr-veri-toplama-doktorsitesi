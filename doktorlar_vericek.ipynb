{
 "cells": [
  {
   "cell_type": "code",
   "execution_count": 1,
   "metadata": {},
   "outputs": [
    {
     "name": "stdout",
     "output_type": "stream",
     "text": [
      "False\n"
     ]
    }
   ],
   "source": [
    "# doktorsitesi.com sitesinden doktor bilgilerini çekme\n",
    "\n",
    "scrollId1 = \"DnF1ZXJ5VGhlbkZldGNoBAAAAAAApBj5FjQzcmcycEdZVFZPZ0RCMC1ONWtxblEAAAAAAKQY_BY0M3JnMnBHWVRWT2dEQjAtTjVrcW5RAAAAAACkGPoWNDNyZzJwR1lUVk9nREIwLU41a3FuUQAAAAAApBj7FjQzcmcycEdZVFZPZ0RCMC1ONWtxblE=\"\n",
    "scrollId2 = \"DnF1ZXJ5VGhlbkZldGNoBAAAAAAAqaY6FjQzcmcycEdZVFZPZ0RCMC1ONWtxblEAAAAAAKmmPBY0M3JnMnBHWVRWT2dEQjAtTjVrcW5RAAAAAACppjsWNDNyZzJwR1lUVk9nREIwLU41a3FuUQAAAAAAqaY9FjQzcmcycEdZVFZPZ0RCMC1ONWtxblE=\"\n",
    "\n",
    "scrollIds = [\n",
    "    \"DnF1ZXJ5VGhlbkZldGNoBAAAAAAAqaY6FjQzcmcycEdZVFZPZ0RCMC1ONWtxblEAAAAAAKmmPBY0M3JnMnBHWVRWT2dEQjAtTjVrcW5RAAAAAACppjsWNDNyZzJwR1lUVk9nREIwLU41a3FuUQAAAAAAqaY9FjQzcmcycEdZVFZPZ0RCMC1ONWtxblE=\",\n",
    "    \"DnF1ZXJ5VGhlbkZldGNoBAAAAAAAqaY6FjQzcmcycEdZVFZPZ0RCMC1ONWtxblEAAAAAAKmmPBY0M3JnMnBHWVRWT2dEQjAtTjVrcW5RAAAAAACppjsWNDNyZzJwR1lUVk9nREIwLU41a3FuUQAAAAAAqaY9FjQzcmcycEdZVFZPZ0RCMC1ONWtxblE=\",\n",
    "    \"DnF1ZXJ5VGhlbkZldGNoBAAAAAAAqaY6FjQzcmcycEdZVFZPZ0RCMC1ONWtxblEAAAAAAKmmPBY0M3JnMnBHWVRWT2dEQjAtTjVrcW5RAAAAAACppjsWNDNyZzJwR1lUVk9nREIwLU41a3FuUQAAAAAAqaY9FjQzcmcycEdZVFZPZ0RCMC1ONWtxblE=\",\n",
    "    \"DnF1ZXJ5VGhlbkZldGNoBAAAAAAAqaY6FjQzcmcycEdZVFZPZ0RCMC1ONWtxblEAAAAAAKmmPBY0M3JnMnBHWVRWT2dEQjAtTjVrcW5RAAAAAACppjsWNDNyZzJwR1lUVk9nREIwLU41a3FuUQAAAAAAqaY9FjQzcmcycEdZVFZPZ0RCMC1ONWtxblE=\",\n",
    "    \"DnF1ZXJ5VGhlbkZldGNoBAAAAAAAqaY6FjQzcmcycEdZVFZPZ0RCMC1ONWtxblEAAAAAAKmmPBY0M3JnMnBHWVRWT2dEQjAtTjVrcW5RAAAAAACppjsWNDNyZzJwR1lUVk9nREIwLU41a3FuUQAAAAAAqaY9FjQzcmcycEdZVFZPZ0RCMC1ONWtxblE=\"\n",
    "]\n",
    "\n",
    "print(scrollId1 == scrollId2)\n"
   ]
  },
  {
   "cell_type": "code",
   "execution_count": 2,
   "metadata": {},
   "outputs": [
    {
     "name": "stdout",
     "output_type": "stream",
     "text": [
      "{'items': [], 'isRefresh': True}\n"
     ]
    }
   ],
   "source": [
    "import requests\n",
    "\n",
    "headers = {\n",
    "    'accept': 'application/json, text/plain, */*',\n",
    "    'accept-language': 'en-US,en;q=0.9,tr-TR;q=0.8,tr;q=0.7',\n",
    "    'origin': 'https://www.doktorsitesi.com',\n",
    "    'priority': 'u=1, i',\n",
    "    'referer': 'https://www.doktorsitesi.com/',\n",
    "    'sec-ch-ua': '\"Chromium\";v=\"124\", \"Google Chrome\";v=\"124\", \"Not-A.Brand\";v=\"99\"',\n",
    "    'sec-ch-ua-mobile': '?1',\n",
    "    'sec-ch-ua-platform': '\"Android\"',\n",
    "    'sec-fetch-dest': 'empty',\n",
    "    'sec-fetch-mode': 'cors',\n",
    "    'sec-fetch-site': 'same-site',\n",
    "    'user-agent': 'Mozilla/5.0 (Linux; Android 6.0; Nexus 5 Build/MRA58N) AppleWebKit/537.36 (KHTML, like Gecko) Chrome/124.0.0.0 Mobile Safari/537.36',\n",
    "}\n",
    "\n",
    "response = requests.get(\n",
    "    'https://api.doktorsitesi.com/public/question-thread/scroll/DnF1ZXJ5VGhlbkZldGNoBAAAAAAAqaY6FjQzcmcycEdZVFZPZ0RCMC1ONWtxblEAAAAAAKmmPBY0M3JnMnBHWVRWT2dEQjAtTjVrcW5RAAAAAACppjsWNDNyZzJwR1lUVk9nREIwLU41a3FuUQAAAAAAqaY9FjQzcmcycEdZVFZPZ0RCMC1ONWtxblE=',\n",
    "    headers=headers,\n",
    ")\n",
    "\n",
    "print(response.json())"
   ]
  },
  {
   "cell_type": "code",
   "execution_count": 3,
   "metadata": {},
   "outputs": [],
   "source": [
    "# lets create a function to get doctors details from this api https://www.doktorsitesi.com/tumuzmanlar?sayfa=1 there are 998 pages\n",
    "\n",
    "def get_doctors_page_in_html(page):\n",
    "    response = requests.get(\"https://www.doktorsitesi.com/tumuzmanlar?sayfa=\" + str(page))\n",
    "    #print(response.text)\n",
    "    return response.text\n",
    "\n",
    "# use beautifulsoup to parse the html\n",
    "from bs4 import BeautifulSoup\n",
    "\n",
    "def get_doctors_details(page):\n",
    "    html = get_doctors_page_in_html(page)\n",
    "    soup = BeautifulSoup(html, 'html.parser')\n",
    "    # find a single az_content inside soup\n",
    "    az_content = soup.find('div', class_='az-content')\n",
    "    # find all az-main-wrapper inside az-content\n",
    "    az_main_wrappers = az_content.find_all('div', class_='az-main-wrapper')\n",
    "    doctors = [] # image link, title, name, is_verified, profile_link, gender, location, speciality\n",
    "    for az_main_wrapper in az_main_wrappers:\n",
    "        verified = az_main_wrapper.find('div', class_='verified')\n",
    "        # if verified is not None then doctor is verified\n",
    "        is_verified = False\n",
    "        if verified is not None:\n",
    "            is_verified = verified.text\n",
    "        image = az_main_wrapper.find('img')\n",
    "        image_link = image['src']\n",
    "        gender = image['data-gender']\n",
    "        profile = az_main_wrapper.find('a')\n",
    "        # <a href=\"https://www.doktorsitesi.com/ahmet-dincer/psikoloji/istanbul\"> <span>Psk.</span> Ahmet Dinçer </a>        \n",
    "        profile_link = profile['href']\n",
    "        location = profile_link.split('/')[-1]\n",
    "        speciality = profile_link.split('/')[-2]\n",
    "        # get the title inside span\n",
    "        title = profile.find('span').text\n",
    "        # get the name and clean \\nPsk.\\n                                Arzu Kantarcıoğlu\\n                            \n",
    "        name = profile.text.split('\\n')[2].strip()\n",
    "\n",
    "        doctors.append({\n",
    "            'image_link': image_link,\n",
    "            'title': title,\n",
    "            'name': name,\n",
    "            'is_verified': is_verified,\n",
    "            'profile_link': profile_link,\n",
    "            'gender': gender,\n",
    "            'location': location,\n",
    "            'speciality': speciality\n",
    "        })\n",
    "\n",
    "    return doctors\n",
    "\n"
   ]
  },
  {
   "cell_type": "code",
   "execution_count": 3,
   "metadata": {},
   "outputs": [
    {
     "data": {
      "text/plain": [
       "20"
      ]
     },
     "execution_count": 3,
     "metadata": {},
     "output_type": "execute_result"
    }
   ],
   "source": [
    "doctors = get_doctors_details(1)\n",
    "len(doctors)"
   ]
  },
  {
   "cell_type": "code",
   "execution_count": 7,
   "metadata": {},
   "outputs": [
    {
     "data": {
      "text/plain": [
       "[]"
      ]
     },
     "execution_count": 7,
     "metadata": {},
     "output_type": "execute_result"
    }
   ],
   "source": []
  }
 ],
 "metadata": {
  "kernelspec": {
   "display_name": "Python 3",
   "language": "python",
   "name": "python3"
  },
  "language_info": {
   "codemirror_mode": {
    "name": "ipython",
    "version": 3
   },
   "file_extension": ".py",
   "mimetype": "text/x-python",
   "name": "python",
   "nbconvert_exporter": "python",
   "pygments_lexer": "ipython3",
   "version": "3.9.6"
  }
 },
 "nbformat": 4,
 "nbformat_minor": 2
}
